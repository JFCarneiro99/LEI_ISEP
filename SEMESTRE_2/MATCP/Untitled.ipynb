{
 "cells": [
  {
   "cell_type": "code",
   "execution_count": 13,
   "id": "c160c110-3392-4980-bb16-e250fff63cbd",
   "metadata": {},
   "outputs": [
    {
     "name": "stdout",
     "output_type": "stream",
     "text": [
      "λ ≈ 6.8\n",
      "F(1.2) ≈ 0.5\n",
      "P(1 ≤ X ≤ 1.3) ≈ 0.75\n",
      "P(X > 1.35) ≈ 0.12\n",
      "E(X) ≈ 1.2\n"
     ]
    }
   ],
   "source": [
    "import sympy as sp\n",
    "from scipy.integrate import quad\n",
    "import numpy as np\n",
    "\n",
    "x = sp.Symbol('x', real=True)\n",
    "k = 0.2\n",
    "lambda_sym = sp.Symbol('λ')\n",
    "f_expr = lambda_sym * x**k * sp.exp(-x**k)\n",
    "integral = sp.integrate(f_expr, (x, 1, 1.4))\n",
    "lambda_val = sp.solve(integral - 1, lambda_sym)[0]\n",
    "λ = float(lambda_val)\n",
    "\n",
    "def f(x_val):\n",
    "    return λ * x_val**k * np.exp(-x_val**k)\n",
    "\n",
    "def xf(x_val):\n",
    "    return x_val * f(x_val)\n",
    "\n",
    "F_1_2, _ = quad(f, 1, 1.2)\n",
    "P_1_1_3, _ = quad(f, 1, 1.3)\n",
    "P_maior_1_35, _ = quad(f, 1.35, 1.4)\n",
    "E_X, _ = quad(xf, 1, 1.4)\n",
    "\n",
    "print(\"λ ≈\", round(λ, 2))\n",
    "print(\"F(1.2) ≈\", round(F_1_2, 2))\n",
    "print(\"P(1 ≤ X ≤ 1.3) ≈\", round(P_1_1_3, 2))\n",
    "print(\"P(X > 1.35) ≈\", round(P_maior_1_35, 2))\n",
    "print(\"E(X) ≈\", round(E_X, 2))"
   ]
  },
  {
   "cell_type": "code",
   "execution_count": 8,
   "id": "a55f0475-2e32-451a-99c6-9854a00cc1ec",
   "metadata": {},
   "outputs": [
    {
     "data": {
      "text/plain": [
       "{'1.1': np.float64(0.1564),\n",
       " '1.2': np.float64(0.0094),\n",
       " '1.3': np.float64(0.3185),\n",
       " '2.1': np.float64(0.4648),\n",
       " '2.2': np.float64(0.9342),\n",
       " '3': np.float64(0.0152)}"
      ]
     },
     "execution_count": 8,
     "metadata": {},
     "output_type": "execute_result"
    }
   ],
   "source": [
    "import scipy.stats as stats\n",
    "\n",
    "# 1.1 Probabilidade de mais de 6 usuários chegarem em uma hora para o Eng. Branco\n",
    "lambda_branco = 4.4\n",
    "prob_mais_que_6_branco = 1 - stats.poisson.cdf(6, lambda_branco)\n",
    "\n",
    "# 1.2 Probabilidade de menos de 12 usuários chegarem em 4 horas para a Dr. Branca\n",
    "lambda_branca_4h = 5.4 * 4\n",
    "prob_menos_que_12_branca = stats.poisson.cdf(11, lambda_branca_4h)\n",
    "\n",
    "# 1.3 Probabilidade de entre 10 e 15 usuários chegarem em uma hora no total (Eng. Branco + Dr. Branca)\n",
    "lambda_total = lambda_branco + 5.4\n",
    "prob_entre_10_e_15 = stats.poisson.cdf(15, lambda_total) - stats.poisson.cdf(9, lambda_total)\n",
    "\n",
    "# 2.1 Probabilidade de o tempo de serviço de um usuário ser entre 10 e 15 minutos\n",
    "mu = 12\n",
    "sigma = 4\n",
    "prob_entre_10_e_15_servico = stats.norm.cdf(15, mu, sigma) - stats.norm.cdf(10, mu, sigma)\n",
    "\n",
    "# 2.2 Probabilidade de a média do tempo de serviço de 10 usuários ser entre 10 e 15 minutos\n",
    "n = 10\n",
    "sigma_media = sigma / (n ** 0.5)\n",
    "prob_entre_10_e_15_media_servico = stats.norm.cdf(15, mu, sigma_media) - stats.norm.cdf(10, mu, sigma_media)\n",
    "\n",
    "# 3 Probabilidade de 36 usuários terem tempo de serviço menor que 15 minutos em um total de 55 usuários\n",
    "n_users = 55\n",
    "n_less_than_15 = 36\n",
    "prob_36_menor_que_15 = stats.binom.cdf(n_less_than_15, n_users, stats.norm.cdf(15, mu, sigma))\n",
    "\n",
    "prob_mais_que_6_branco, prob_menos_que_12_branca, prob_entre_10_e_15, prob_entre_10_e_15_servico, prob_entre_10_e_15_media_servico, prob_36_menor_que_15\n"
   ]
  },
  {
   "cell_type": "code",
   "execution_count": 19,
   "id": "8178fc27-22d0-47e5-84a9-2eb7f50ccfbf",
   "metadata": {},
   "outputs": [
    {
     "data": {
      "text/plain": [
       "(np.float64(0.008827576059689757),\n",
       " np.float64(0.08025069145171963),\n",
       " np.float64(0.21981993429662885))"
      ]
     },
     "execution_count": 19,
     "metadata": {},
     "output_type": "execute_result"
    }
   ],
   "source": [
    "import math\n",
    "import scipy.stats as stats\n",
    "\n",
    "# 1. Calcular o valor de λ (taxa) a partir de P(X < 0.7) = 0.89\n",
    "# Sabemos que P(X < 0.7) = 0.89, então:\n",
    "lambda_value = -math.log(1 - 0.89) / 0.7\n",
    "\n",
    "# 2. Probabilidade de não haver dispositivos elétricos ligados em 1.5 segundos\n",
    "# A fórmula para a distribuição exponencial é: F(x) = 1 - e^(-λx)\n",
    "# Para encontrar P(X > 1.5), usamos 1 - F(1.5)\n",
    "prob_no_device_1_5s = 1 - stats.expon.cdf(1.5, scale=1 / lambda_value)\n",
    "\n",
    "# 3. Probabilidade condicional P(X > 2.3 | X > 1.5)\n",
    "# P(X > 2.3 | X > 1.5) = P(X > 2.3) / P(X > 1.5)\n",
    "prob_X_greater_than_2_3_given_X_greater_than_1_5 = (1 - stats.expon.cdf(2.3, scale=1 / lambda_value)) / (1 - stats.expon.cdf(1.5, scale=1 / lambda_value))\n",
    "\n",
    "# 4. Para P(X ≤ q) = 0.5, podemos encontrar q usando a inversa da CDF\n",
    "q_value = stats.expon.ppf(0.5, scale=1 / lambda_value)\n",
    "\n",
    "# Exibir as respostas\n",
    "prob_no_device_1_5s, prob_X_greater_than_2_3_given_X_greater_than_1_5, q_value\n"
   ]
  },
  {
   "cell_type": "code",
   "execution_count": 20,
   "id": "102e3da1-e787-4d81-bb1c-9b23e6e0f1b2",
   "metadata": {},
   "outputs": [
    {
     "data": {
      "text/plain": [
       "(np.float64(0.6395075690491646),\n",
       " np.float64(0.9822647631704093),\n",
       " 3675,\n",
       " 37.21558813185679,\n",
       " np.float64(0.25086776517230747),\n",
       " np.float64(0.9854663927622438),\n",
       " np.float64(0.0024456709589108067))"
      ]
     },
     "execution_count": 20,
     "metadata": {},
     "output_type": "execute_result"
    }
   ],
   "source": [
    "# Importar as bibliotecas necessárias\n",
    "import scipy.stats as stats\n",
    "\n",
    "# 1.1 Probabilidade de uma sacola de tinta vermelha pesar menos de 300g\n",
    "mu_red = 295\n",
    "sigma_red = 14\n",
    "prob_red_less_than_300 = stats.norm.cdf(300, mu_red, sigma_red)\n",
    "\n",
    "# 1.2 Probabilidade de uma sacola de tinta vermelha pesar menos que uma sacola de tinta verde\n",
    "mu_green = 330\n",
    "sigma_green = 9\n",
    "mu_diff = mu_red - mu_green\n",
    "sigma_diff = (sigma_red**2 + sigma_green**2)**0.5\n",
    "prob_red_less_than_green = stats.norm.cdf(0, mu_diff, sigma_diff)\n",
    "\n",
    "# 1.3 Para o kit, temos 5 sacolas de cada cor, e o peso da mochila é fixo em 550g.\n",
    "mu_kit = 5 * mu_green + 5 * mu_red + 550\n",
    "sigma_kit = (5 * sigma_green**2 + 5 * sigma_red**2)**0.5\n",
    "\n",
    "# 1.4 Probabilidade de um kit pesar mais de 3.7kg (3700g)\n",
    "prob_kit_more_than_3_7kg = 1 - stats.norm.cdf(3700, mu_kit, sigma_kit)\n",
    "\n",
    "# 2.1 Probabilidade de mais da metade dos ativistas (6 ou mais) terem kits pesando menos de 3.7kg\n",
    "prob_less_than_3_7kg_activists = stats.norm.cdf(3700, mu_kit, sigma_kit)\n",
    "prob_more_than_half = stats.binom.sf(5, 12, prob_less_than_3_7kg_activists)\n",
    "\n",
    "# 2.2 Probabilidade de exatamente 4 ativistas terem kits pesando menos de 3.7kg\n",
    "prob_exactly_4_activists = stats.binom.pmf(4, 12, prob_less_than_3_7kg_activists)\n",
    "\n",
    "# Exibir os resultados\n",
    "prob_red_less_than_300, prob_red_less_than_green, mu_kit, sigma_kit, prob_kit_more_than_3_7kg, prob_more_than_half, prob_exactly_4_activists\n"
   ]
  },
  {
   "cell_type": "code",
   "execution_count": 21,
   "id": "e19bb996-0983-4db7-937e-5182ce42572b",
   "metadata": {},
   "outputs": [
    {
     "data": {
      "text/plain": [
       "(1.7792658971277033, 140.36646799232966, np.float64(0.9613198342487229))"
      ]
     },
     "execution_count": 21,
     "metadata": {},
     "output_type": "execute_result"
    }
   ],
   "source": [
    "# Parâmetros fornecidos\n",
    "mean_1990 = 4.73\n",
    "std_1990 = 4.82\n",
    "n_1990 = 70\n",
    "\n",
    "mean_2020 = 3.43\n",
    "std_2020 = 4.38\n",
    "n_2020 = 95\n",
    "\n",
    "# Calcular o valor do teste t\n",
    "t_statistic = (mean_1990 - mean_2020) / ( (std_1990**2 / n_1990) + (std_2020**2 / n_2020) )**0.5\n",
    "\n",
    "# Calcular o grau de liberdade usando a fórmula de Welch-Satterthwaite\n",
    "df = (( (std_1990**2 / n_1990) + (std_2020**2 / n_2020) )**2) / (\n",
    "    ( (std_1990**2 / n_1990)**2 ) / (n_1990 - 1) + ( (std_2020**2 / n_2020)**2 ) / (n_2020 - 1)\n",
    ")\n",
    "\n",
    "# Calcular o valor p para um teste t de uma cauda (menos)\n",
    "p_value = stats.t.cdf(t_statistic, df)\n",
    "\n",
    "# Exibir o resultado\n",
    "t_statistic, df, p_value\n"
   ]
  },
  {
   "cell_type": "code",
   "execution_count": 22,
   "id": "3a310176-f236-4f9c-b947-f5aae4068835",
   "metadata": {},
   "outputs": [
    {
     "data": {
      "text/plain": [
       "(1.1313708498984756, np.float64(0.1289495176461699))"
      ]
     },
     "execution_count": 22,
     "metadata": {},
     "output_type": "execute_result"
    }
   ],
   "source": [
    "# Parâmetros fornecidos\n",
    "n = 50\n",
    "x = 29\n",
    "p0 = 0.5\n",
    "\n",
    "# Calcular a proporção observada\n",
    "p_hat = x / n\n",
    "\n",
    "# Calcular o valor do teste z\n",
    "z_statistic = (p_hat - p0) / ((p0 * (1 - p0) / n) ** 0.5)\n",
    "\n",
    "# Calcular o valor p para o teste z de uma cauda (direção direita)\n",
    "p_value = 1 - stats.norm.cdf(z_statistic)\n",
    "\n",
    "# Exibir os resultados\n",
    "z_statistic, p_value\n"
   ]
  },
  {
   "cell_type": "code",
   "execution_count": 23,
   "id": "e87a7630-cc61-4191-98b5-a2abe9cbdfbe",
   "metadata": {},
   "outputs": [
    {
     "data": {
      "text/plain": [
       "((np.float64(11.490909212871005), np.float64(13.009090787128995)),\n",
       " (np.float64(11.78257587953767), np.float64(13.300757453795661)),\n",
       " (np.float64(0.09231030838762377), np.float64(0.15530873923142385)),\n",
       " 2401)"
      ]
     },
     "execution_count": 23,
     "metadata": {},
     "output_type": "execute_result"
    }
   ],
   "source": [
    "# Importar as bibliotecas necessárias\n",
    "import math\n",
    "import scipy.stats as stats\n",
    "\n",
    "# Parâmetros fornecidos para a questão 1 (peso da bagagem)\n",
    "total_weight_1 = 2940  # kg\n",
    "total_weight_2 = 3010  # kg\n",
    "n_passengers = 240  # número de passageiros\n",
    "\n",
    "# Desvio padrão da bagagem\n",
    "sigma = 6  # kg\n",
    "confidence_level = 0.95\n",
    "z_score = stats.norm.ppf(1 - (1 - confidence_level) / 2)\n",
    "\n",
    "# Média amostral para os dois aviões\n",
    "mean_1 = total_weight_1 / n_passengers\n",
    "mean_2 = total_weight_2 / n_passengers\n",
    "\n",
    "# Intervalo de confiança para a média do peso da bagagem\n",
    "margin_of_error_1 = z_score * (sigma / math.sqrt(n_passengers))\n",
    "margin_of_error_2 = z_score * (sigma / math.sqrt(n_passengers))\n",
    "\n",
    "# Intervalo de confiança para os dois aviões\n",
    "ic_1 = (mean_1 - margin_of_error_1, mean_1 + margin_of_error_1)\n",
    "ic_2 = (mean_2 - margin_of_error_2, mean_2 + margin_of_error_2)\n",
    "\n",
    "# Parâmetros fornecidos para a questão 2 (proporção de ausências)\n",
    "confirmed_passengers = 420\n",
    "absent_passengers = confirmed_passengers - 368\n",
    "\n",
    "# Proporção amostral de ausências\n",
    "p_hat = absent_passengers / confirmed_passengers\n",
    "\n",
    "# Intervalo de confiança para a proporção de ausências\n",
    "margin_of_error_proportion = z_score * math.sqrt((p_hat * (1 - p_hat)) / confirmed_passengers)\n",
    "ic_proportion = (p_hat - margin_of_error_proportion, p_hat + margin_of_error_proportion)\n",
    "\n",
    "# Para a questão 3 (erro de estimativa de 2%)\n",
    "desired_margin_of_error = 0.02  # 2%\n",
    "\n",
    "# Calcular o tamanho da amostra necessário para um erro de 2%\n",
    "# Usamos a fórmula para margem de erro para proporções\n",
    "n_required = (z_score**2 * 0.25) / desired_margin_of_error**2\n",
    "n_required = math.ceil(n_required)\n",
    "\n",
    "# Exibir os resultados\n",
    "ic_1, ic_2, ic_proportion, n_required\n"
   ]
  },
  {
   "cell_type": "code",
   "execution_count": null,
   "id": "b6612550-7703-47df-ac11-cb0c670fcb4a",
   "metadata": {},
   "outputs": [],
   "source": []
  }
 ],
 "metadata": {
  "kernelspec": {
   "display_name": "Python [conda env:base] *",
   "language": "python",
   "name": "conda-base-py"
  },
  "language_info": {
   "codemirror_mode": {
    "name": "ipython",
    "version": 3
   },
   "file_extension": ".py",
   "mimetype": "text/x-python",
   "name": "python",
   "nbconvert_exporter": "python",
   "pygments_lexer": "ipython3",
   "version": "3.13.5"
  }
 },
 "nbformat": 4,
 "nbformat_minor": 5
}
