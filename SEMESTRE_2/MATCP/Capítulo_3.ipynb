{
 "cells": [
  {
   "cell_type": "markdown",
   "metadata": {},
   "source": [
    "# CAPÍTULO 3"
   ]
  },
  {
   "cell_type": "markdown",
   "metadata": {},
   "source": [
    "## EXERCÍCIO 1"
   ]
  },
  {
   "cell_type": "markdown",
   "metadata": {},
   "source": [
    "### EXERCÍCIO 1.1"
   ]
  },
  {
   "cell_type": "code",
   "execution_count": 4,
   "metadata": {},
   "outputs": [],
   "source": [
    "# X v.a. = X -> Número de bombons de chocolate branco, em 3 bombons.\n",
    "\n",
    "# f(x) = (X = x)\n",
    "# f(0) = (X = 0) = (6/8)*(5/7)*(4/6) = 5/14\n",
    "# f(1) = (X = 1) = (2/8)*(6/7)*(5/6)*3 = 15/28\n",
    "# f(2) = (X = 2) = (2/8)*(1/7)*(6/6)*3 = 3/28\n",
    "\n",
    "#   x  |    0    |     1   |    2    |  \n",
    "#   ----------------------------------\n",
    "# f(x) |  5/14   |  15/28  |   3/28  | "
   ]
  },
  {
   "cell_type": "markdown",
   "metadata": {},
   "source": [
    "### EXERCÍCIO 1.2"
   ]
  },
  {
   "cell_type": "code",
   "execution_count": 5,
   "metadata": {},
   "outputs": [],
   "source": [
    "# média dos valores da tabela do exercício 1.1\n",
    "\n",
    "# média = 0,75 "
   ]
  },
  {
   "cell_type": "markdown",
   "metadata": {},
   "source": [
    "### EXERCÍCIO 1.3"
   ]
  },
  {
   "cell_type": "code",
   "execution_count": 6,
   "metadata": {},
   "outputs": [],
   "source": [
    "# PROBABILIDADE CONDICIONADA: sabendo que B aconteceu qual é a probalidade de A acontecer.\n",
    "\n",
    "# X <= 1 (menor ou igual a 1)\n",
    "\n",
    "# P(X = 1 | X <= 1) = P( X = 1 & X <= 1) / P(X <= 1)\n",
    "# P(X = 1 ) / P(X<=1 ) =  (15/28) / (5/14 + 15/28) = 0,6"
   ]
  },
  {
   "cell_type": "markdown",
   "metadata": {},
   "source": [
    "## EXERCÍCIO 3"
   ]
  },
  {
   "cell_type": "markdown",
   "metadata": {},
   "source": [
    "### EXERCÍCIO 3.1"
   ]
  },
  {
   "cell_type": "code",
   "execution_count": null,
   "metadata": {},
   "outputs": [],
   "source": [
    "# X v.a. = X \n",
    "\n",
    "# f(x) = (X = x)\n",
    "# f(2) = (X = 0) \n",
    "# f(3) = (X = 1) \n",
    "# f(4) = (X = 2)\n",
    "# f(a) = (X = a)\n",
    "\n",
    "#   x  |    2    |    3    |    4    |    a    |\n",
    "#   --------------------------------------------\n",
    "# f(x) |   1/4   |   1/3   |   3/16  |    K    |\n",
    "\n",
    "#   x  |    2    |    3    |    4    |    100/11   |\n",
    "#   ------------------------------------------------\n",
    "# f(x) |   1/4   |   1/3   |   3/16  |    11/48    |\n",
    "\n",
    "# E(X) = SOMATÓRIO PARA TODOS OS VALORES DE X\n",
    "# 2*(1/4)+3*(1/3)+4*(3/16)+(a)*K = 13/3\n",
    "# a = 100/11\n",
    "\n",
    "# SOMA DE TODOS OS VALORES TEM QUE DAR 1 \n",
    "# (1/4)+(1/3)+(3/16)+(K) = 1\n",
    "# K = 11/48"
   ]
  },
  {
   "cell_type": "markdown",
   "metadata": {},
   "source": [
    "### EXERCÍCIO 3.2"
   ]
  },
  {
   "cell_type": "code",
   "execution_count": null,
   "metadata": {},
   "outputs": [],
   "source": [
    "# DISTRIBUIÇÃO ACUMULADA: é a soma do valor de todas as probablidades\n",
    "\n",
    "# F(X) = 0, se x < 2;\n",
    "#      = 1/4, se 2<=x<3\n",
    "#      = 1/4+1/3 = 7/12, se 3<=x<4\n",
    "#      = 7/12 + 3/16 = 37/48, se 4<=x<100/11\n",
    "#      = 1, se x>=100/11"
   ]
  },
  {
   "cell_type": "markdown",
   "metadata": {},
   "source": [
    "### EXERCÍCIO 3.3"
   ]
  },
  {
   "cell_type": "code",
   "execution_count": null,
   "metadata": {},
   "outputs": [],
   "source": [
    "# var(X) = G^2 = E(X^2) - média^2\n",
    "#              = E(X^2) - (E(X^2))\n",
    "\n",
    "# E(X)^2 = SOMATÓRIO x^2 f(x) = 4*(1/4)+9*(1/3)+16*(3/16)+(100/11)^2*11/48 = 856/33\n",
    "\n",
    "# var(X) = 856/33 - (13/3)^2 = 7,16"
   ]
  },
  {
   "cell_type": "markdown",
   "metadata": {},
   "source": [
    "## EXERCÍCIO 4"
   ]
  },
  {
   "cell_type": "markdown",
   "metadata": {},
   "source": [
    "### EXERCÍCIO 4.1"
   ]
  },
  {
   "cell_type": "code",
   "execution_count": null,
   "metadata": {},
   "outputs": [],
   "source": [
    "# X v.a X = número de defeitos num cabo elétrico, em 100 metros de cabo\n",
    "\n",
    "# P(0<X<=2) = P(X = 1) + P(X = 2)"
   ]
  },
  {
   "cell_type": "markdown",
   "metadata": {},
   "source": [
    "### EXERCÍCIO 4.2"
   ]
  },
  {
   "cell_type": "code",
   "execution_count": null,
   "metadata": {},
   "outputs": [],
   "source": [
    "# P(X <= 3)"
   ]
  },
  {
   "cell_type": "markdown",
   "metadata": {},
   "source": [
    "### EXERCÍCIO 4.3"
   ]
  },
  {
   "cell_type": "code",
   "execution_count": null,
   "metadata": {},
   "outputs": [],
   "source": [
    "# P(X > 2) = P(X = 3) + P(X = 4) + P(X = 5)"
   ]
  },
  {
   "cell_type": "markdown",
   "metadata": {},
   "source": [
    "### EXERCÍCIO 4.4"
   ]
  },
  {
   "cell_type": "code",
   "execution_count": null,
   "metadata": {},
   "outputs": [],
   "source": [
    "# FAZER A MÉDIA"
   ]
  }
 ],
 "metadata": {
  "kernelspec": {
   "display_name": "base",
   "language": "python",
   "name": "python3"
  },
  "language_info": {
   "codemirror_mode": {
    "name": "ipython",
    "version": 3
   },
   "file_extension": ".py",
   "mimetype": "text/x-python",
   "name": "python",
   "nbconvert_exporter": "python",
   "pygments_lexer": "ipython3",
   "version": "3.12.7"
  }
 },
 "nbformat": 4,
 "nbformat_minor": 2
}
