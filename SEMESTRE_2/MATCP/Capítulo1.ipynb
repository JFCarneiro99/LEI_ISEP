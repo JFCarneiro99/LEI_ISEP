{
 "cells": [
  {
   "cell_type": "markdown",
   "metadata": {},
   "source": [
    "# EXERCÍCIOS CAPÍTULO 1\n"
   ]
  },
  {
   "cell_type": "markdown",
   "metadata": {},
   "source": [
    "## EXERCÍCIO 1"
   ]
  },
  {
   "cell_type": "code",
   "execution_count": 3,
   "metadata": {},
   "outputs": [
    {
     "name": "stdout",
     "output_type": "stream",
     "text": [
      "Empréstimo Aprovado\n",
      "A prestação mensal vai ser de 83.3 euros, durante 1 anos.\n"
     ]
    }
   ],
   "source": [
    "valorDoEmprestimo = int(input('Escreva o valor do Empréstimo:'))\n",
    "salarioDoComprador = int(input('Escreva o valor do salário do comprador'))\n",
    "duracaoDoEmprestimoEmAnos = int(input('Indique a duração do Empréstimo'))\n",
    "\n",
    "duracaoDoEmprestimoEmMeses = (duracaoDoEmprestimoEmAnos * 12)\n",
    "\n",
    "valorAPagarMensalmente = valorDoEmprestimo / duracaoDoEmprestimoEmMeses\n",
    "\n",
    "if valorAPagarMensalmente > salarioDoComprador * 0.30:\n",
    "    print(f'Empréstimo Reprovado')\n",
    "else:\n",
    "    print(f'Empréstimo Aprovado')\n",
    "    print(f'A prestação mensal vai ser de {valorAPagarMensalmente:.1f} euros, durante {duracaoDoEmprestimoEmAnos} anos.')"
   ]
  },
  {
   "cell_type": "markdown",
   "metadata": {},
   "source": [
    "## EXERCÍCIO 4"
   ]
  },
  {
   "cell_type": "code",
   "execution_count": 2,
   "metadata": {},
   "outputs": [
    {
     "name": "stdin",
     "output_type": "stream",
     "text": [
      "Número 1\n",
      "Número 2\n",
      "Número 3\n",
      "Número 4\n",
      "Número 1\n",
      "Número -1\n"
     ]
    },
    {
     "name": "stdout",
     "output_type": "stream",
     "text": [
      "O maior número da lista é 4 e o menor é 1. As posições são respetivamente 3 e 0\n"
     ]
    }
   ],
   "source": [
    "numero = int(input('Número'))\n",
    "listaNumeros = list()\n",
    "if numero < 0:\n",
    "    print(f'O primeiro número inserido é menor que 0')\n",
    "else:\n",
    "    while numero >=0:\n",
    "        if numero not in listaNumeros:\n",
    "            listaNumeros.append(numero) \n",
    "        numero = int(input('Número'))\n",
    "    qntNumeros = len(listaNumeros)\n",
    "    maiorNum = max(listaNumeros)\n",
    "    menorNum = min(listaNumeros)\n",
    "    indexMaiorNum = listaNumeros.index(maiorNum)\n",
    "    indexMenorNum = listaNumeros.index(menorNum)\n",
    "    print(f'O maior número da lista é {maiorNum} e o menor é {menorNum}. As posições são respetivamente {indexMaiorNum} e {indexMenorNum}')\n",
    "    "
   ]
  },
  {
   "cell_type": "markdown",
   "metadata": {},
   "source": [
    "## EXERCÍCIO 5"
   ]
  },
  {
   "cell_type": "code",
   "execution_count": 7,
   "metadata": {},
   "outputs": [
    {
     "name": "stdin",
     "output_type": "stream",
     "text": [
      "Insira um valor:  1\n",
      "Insira um valor:  1\n",
      "Insira um valor:  2\n",
      "Insira um valor:  3\n",
      "Insira um valor:  -4\n"
     ]
    },
    {
     "name": "stdout",
     "output_type": "stream",
     "text": [
      "-=-=-=-=-=-=-=-=-=-=-=-=-=-=-=-=-=-=-=-=-=-=-=-=-=-=-=-=-=-=\n",
      "Os valores da lista em ordem crescente são [-4, 1, 1, 2, 3]\n"
     ]
    }
   ],
   "source": [
    "lista = []\n",
    "for c in range(5):\n",
    "    n = int(input('Insira um valor: '))\n",
    "    if c == 0 or n > lista[len(lista)-1]:\n",
    "        lista.append(n)\n",
    "    else:\n",
    "        pos = 0\n",
    "        while pos < len(lista):\n",
    "            if n <= lista[pos]:\n",
    "                lista.insert(pos, n)\n",
    "                break\n",
    "            pos += 1\n",
    "\n",
    "print('-=' * 30)\n",
    "print(f'Os valores da lista em ordem crescente são {lista}')"
   ]
  },
  {
   "cell_type": "markdown",
   "metadata": {},
   "source": [
    "## EXERCÍCIO 7"
   ]
  },
  {
   "cell_type": "code",
   "execution_count": 24,
   "metadata": {},
   "outputs": [
    {
     "name": "stdin",
     "output_type": "stream",
     "text": [
      "Introduza a dimensão n da matriz:  1\n"
     ]
    },
    {
     "name": "stdout",
     "output_type": "stream",
     "text": [
      "Introduza os 1 valores da matriz:\n"
     ]
    },
    {
     "name": "stdin",
     "output_type": "stream",
     "text": [
      "Valor para a posição [1, 1]:  1\n"
     ]
    },
    {
     "name": "stdout",
     "output_type": "stream",
     "text": [
      "Matriz:\n",
      "   1\n",
      "Soma dos valores pares da matriz: 0\n",
      "A matriz não tem terceira coluna.\n",
      "A matriz não tem segunda linha.\n"
     ]
    }
   ],
   "source": [
    "n = int(input(\"Introduza a dimensão n da matriz: \"))\n",
    "\n",
    "valores = []\n",
    "\n",
    "print(f\"Introduza os {n*n} valores da matriz:\")\n",
    "\n",
    "for i in range(n):\n",
    "    linha = []\n",
    "    for j in range(n):\n",
    "        valor = int(input(f\"Valor para a posição [{i+1}, {j+1}]: \"))\n",
    "        linha.append(valor)\n",
    "    valores.append(linha)\n",
    "\n",
    "import numpy as np\n",
    "\n",
    "matriz = np.array(valores)\n",
    "\n",
    "print(\"Matriz:\")\n",
    "for linha in matriz:\n",
    "    print(\" \".join(f\"{valor:4d}\" for valor in linha))\n",
    "\n",
    "soma_pares = np.sum(matriz[matriz % 2 == 0])\n",
    "print(f\"Soma dos valores pares da matriz: {soma_pares}\")\n",
    "\n",
    "if n >= 3:\n",
    "    soma_terceira_coluna = np.sum(matriz[:, 2])\n",
    "    print(f\"Soma dos valores da terceira coluna: {soma_terceira_coluna}\")\n",
    "else:\n",
    "    print(\"A matriz não tem terceira coluna.\")\n",
    "\n",
    "if n >= 2:\n",
    "    menor_segunda_linha = np.min(matriz[1, :])\n",
    "    print(f\"Menor valor da segunda linha: {menor_segunda_linha}\")\n",
    "else:\n",
    "    print(\"A matriz não tem segunda linha.\")"
   ]
  },
  {
   "cell_type": "markdown",
   "metadata": {},
   "source": [
    "## EXERCÍCIO 10"
   ]
  },
  {
   "cell_type": "code",
   "execution_count": 50,
   "metadata": {},
   "outputs": [
    {
     "name": "stdout",
     "output_type": "stream",
     "text": [
      "Os valores informados foram: (3, 7, 2, 9, 4)\n",
      "O maior valor é: 9\n"
     ]
    }
   ],
   "source": [
    "maior(3, 7, 2, 9, 4) \n",
    "\n",
    "def maior(*numero):\n",
    "    if not numero:\n",
    "        print('Nenhum número foi inserido')\n",
    "        return\n",
    "\n",
    "    maiorValor = max(numero)\n",
    "    print(f'O maior valor é {maiorValor}')"
   ]
  },
  {
   "cell_type": "code",
   "execution_count": null,
   "metadata": {},
   "outputs": [],
   "source": []
  }
 ],
 "metadata": {
  "kernelspec": {
   "display_name": "Python [conda env:base] *",
   "language": "python",
   "name": "conda-base-py"
  },
  "language_info": {
   "codemirror_mode": {
    "name": "ipython",
    "version": 3
   },
   "file_extension": ".py",
   "mimetype": "text/x-python",
   "name": "python",
   "nbconvert_exporter": "python",
   "pygments_lexer": "ipython3",
   "version": "3.12.7"
  }
 },
 "nbformat": 4,
 "nbformat_minor": 4
}
