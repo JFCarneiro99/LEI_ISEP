{
 "cells": [
  {
   "cell_type": "markdown",
   "metadata": {},
   "source": [
    "# EXERCÍCIOS CAPÍTULO 1\n"
   ]
  },
  {
   "cell_type": "markdown",
   "metadata": {},
   "source": [
    "## EXERCÍCIO 1"
   ]
  },
  {
   "cell_type": "code",
   "execution_count": 3,
   "metadata": {},
   "outputs": [
    {
     "name": "stdout",
     "output_type": "stream",
     "text": [
      "Empréstimo Aprovado\n",
      "A prestação mensal vai ser de 83.3 euros, durante 1 anos.\n"
     ]
    }
   ],
   "source": [
    "valorDoEmprestimo = int(input('Escreva o valor do Empréstimo:'))\n",
    "salarioDoComprador = int(input('Escreva o valor do salário do comprador'))\n",
    "duracaoDoEmprestimoEmAnos = int(input('Indique a duração do Empréstimo'))\n",
    "\n",
    "duracaoDoEmprestimoEmMeses = (duracaoDoEmprestimoEmAnos * 12)\n",
    "\n",
    "valorAPagarMensalmente = valorDoEmprestimo / duracaoDoEmprestimoEmMeses\n",
    "\n",
    "if valorAPagarMensalmente > salarioDoComprador * 0.30:\n",
    "    print(f'Empréstimo Reprovado')\n",
    "else:\n",
    "    print(f'Empréstimo Aprovado')\n",
    "    print(f'A prestação mensal vai ser de {valorAPagarMensalmente:.1f} euros, durante {duracaoDoEmprestimoEmAnos} anos.')"
   ]
  },
  {
   "cell_type": "markdown",
   "metadata": {},
   "source": [
    "## EXERCÍCIO 4"
   ]
  },
  {
   "cell_type": "code",
   "execution_count": null,
   "metadata": {},
   "outputs": [],
   "source": [
    "dados = lista1()\n",
    "numero = int(input('Insira um valor'))\n",
    "\n",
    "verificacao = numero %2\n",
    "\n",
    "dados.append(numero)\n",
    "\n",
    "while verificacao == 0:\n",
    "    numero = int(input('Insira um valor'))\n",
    "    verificacao = numero %2\n",
    "    if verificacao == 0:\n",
    "    dados.append(numero)\n",
    "\n",
    "\n",
    "    "
   ]
  }
 ],
 "metadata": {
  "kernelspec": {
   "display_name": "Python 3",
   "language": "python",
   "name": "python3"
  },
  "language_info": {
   "codemirror_mode": {
    "name": "ipython",
    "version": 3
   },
   "file_extension": ".py",
   "mimetype": "text/x-python",
   "name": "python",
   "nbconvert_exporter": "python",
   "pygments_lexer": "ipython3",
   "version": "3.9.6"
  }
 },
 "nbformat": 4,
 "nbformat_minor": 2
}
