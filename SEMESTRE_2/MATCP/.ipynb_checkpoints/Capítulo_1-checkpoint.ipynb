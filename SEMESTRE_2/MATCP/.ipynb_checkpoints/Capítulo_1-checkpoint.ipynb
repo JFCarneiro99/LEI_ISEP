{
 "cells": [
  {
   "cell_type": "markdown",
   "id": "299891bb",
   "metadata": {},
   "source": [
    "## EXERCICIO 1"
   ]
  },
  {
   "cell_type": "code",
   "id": "fcc9bd8190c54eb6",
   "metadata": {
    "jupyter": {
     "is_executing": true
    }
   },
   "source": [
    "valorDoEmprestimo = int(input('Escreva o valor do Empréstimo: '))\n",
    "salarioDoComprador = int(input('Escreva o valor do salário do comprador: '))\n",
    "duracaoDoEmprestimoEmAnos = int(input('Indique a duração do Empréstimo: '))\n",
    "\n",
    "duracaoDoEmprestimoEmMeses = (duracaoDoEmprestimoEmAnos * 12)\n",
    "\n",
    "valorAPagarMensalmente = valorDoEmprestimo / duracaoDoEmprestimoEmMeses\n",
    "\n",
    "if valorAPagarMensalmente > salarioDoComprador * 0.30:\n",
    "    print(f'Empréstimo Reprovado')\n",
    "else:\n",
    "    print(f'Empréstimo Aprovado')\n",
    "    print(f'A prestação mensal vai ser de {valorAPagarMensalmente:.1f} euros, durante {duracaoDoEmprestimoEmAnos} anos.')"
   ],
   "outputs": [],
   "execution_count": null
  },
  {
   "cell_type": "markdown",
   "id": "139c60ed",
   "metadata": {},
   "source": [
    "## EXERCICIO 4"
   ]
  },
  {
   "cell_type": "code",
   "execution_count": null,
   "id": "2d622707",
   "metadata": {},
   "outputs": [],
   "source": [
    "numero = int(input('Número'))\n",
    "listaNumeros = list()\n",
    "if numero < 0:\n",
    "    print(f'O primeiro número inserido é menor que 0')\n",
    "else:\n",
    "    while numero >=0:\n",
    "        if numero not in listaNumeros:\n",
    "            listaNumeros.append(numero)\n",
    "        numero = int(input('Número'))\n",
    "    qntNumeros = len(listaNumeros)\n",
    "    maiorNum = max(listaNumeros)\n",
    "    menorNum = min(listaNumeros)\n",
    "    indexMaiorNum = listaNumeros.index(maiorNum)\n",
    "    indexMenorNum = listaNumeros.index(menorNum)\n",
    "    print(f'O maior número da lista é {maiorNum} e o menor é {menorNum}. As posições são respetivamente {indexMaiorNum} e {indexMenorNum}')"
   ]
  },
  {
   "cell_type": "markdown",
   "id": "f7c80529",
   "metadata": {},
   "source": [
    "## EXERCICIO 5"
   ]
  },
  {
   "cell_type": "code",
   "execution_count": null,
   "id": "86f38390",
   "metadata": {},
   "outputs": [],
   "source": [
    "lista = []\n",
    "for c in range(5):\n",
    "    n = int(input('Insira um valor: '))\n",
    "    if c == 0 or n > lista[len(lista)-1]:\n",
    "        lista.append(n)\n",
    "    else:\n",
    "        pos = 0\n",
    "        while pos < len(lista):\n",
    "            if n <= lista[pos]:\n",
    "                lista.insert(pos, n)\n",
    "                break\n",
    "            pos += 1\n",
    "\n",
    "print('-=' * 30)\n",
    "print(f'Os valores da lista em ordem crescente são {lista}')"
   ]
  },
  {
   "cell_type": "markdown",
   "id": "852eb057",
   "metadata": {},
   "source": [
    "## EXERCICIO 7"
   ]
  },
  {
   "cell_type": "code",
   "execution_count": 3,
   "id": "decc91a5",
   "metadata": {},
   "outputs": [
    {
     "name": "stdout",
     "output_type": "stream",
     "text": [
      "Introduza os 1 valores da matriz:\n",
      "Matriz:\n",
      "   1\n",
      "Soma dos valores pares da matriz: 0\n",
      "A matriz não tem terceira coluna.\n",
      "A matriz não tem segunda linha.\n"
     ]
    }
   ],
   "source": [
    "n = int(input(\"Introduza a dimensão n da matriz: \"))\n",
    "\n",
    "valores = []\n",
    "\n",
    "print(f\"Introduza os {n*n} valores da matriz:\")\n",
    "\n",
    "for i in range(n):\n",
    "    linha = []\n",
    "    for j in range(n):\n",
    "        valor = int(input(f\"Valor para a posição [{i+1}, {j+1}]: \"))\n",
    "        linha.append(valor)\n",
    "    valores.append(linha)\n",
    "\n",
    "import numpy as np\n",
    "\n",
    "matriz = np.array(valores)\n",
    "\n",
    "print(\"Matriz:\")\n",
    "for linha in matriz:\n",
    "    print(\" \".join(f\"{valor:4d}\" for valor in linha))\n",
    "\n",
    "soma_pares = np.sum(matriz[matriz % 2 == 0])\n",
    "print(f\"Soma dos valores pares da matriz: {soma_pares}\")\n",
    "\n",
    "if n >= 3:\n",
    "    soma_terceira_coluna = np.sum(matriz[:, 2])\n",
    "    print(f\"Soma dos valores da terceira coluna: {soma_terceira_coluna}\")\n",
    "else:\n",
    "    print(\"A matriz não tem terceira coluna.\")\n",
    "\n",
    "if n >= 2:\n",
    "    menor_segunda_linha = np.min(matriz[1, :])\n",
    "    print(f\"Menor valor da segunda linha: {menor_segunda_linha}\")\n",
    "else:\n",
    "    print(\"A matriz não tem segunda linha.\")"
   ]
  },
  {
   "cell_type": "markdown",
   "id": "1422556d",
   "metadata": {},
   "source": [
    "## EXERCICIO 10"
   ]
  },
  {
   "cell_type": "code",
   "execution_count": 13,
   "id": "1710a681",
   "metadata": {},
   "outputs": [
    {
     "name": "stdout",
     "output_type": "stream",
     "text": [
      "[8, 10, 5, 4, 9]\n",
      "O maior número inserido é 10\n"
     ]
    }
   ],
   "source": [
    "import numpy as np\n",
    "\n",
    "################################################################\n",
    "### método maior() #############################################\n",
    "def maior(num):\n",
    "    maiorValor = max(num)\n",
    "    return maiorValor\n",
    "################################################################\n",
    "### dá assign num número entre 1-5 (qnt de números) ############\n",
    "qntNumeros = np.random.randint(1,6)\n",
    "################################################################\n",
    "### cria uma lista com qntNumeros de 1 a 10 ####################\n",
    "numeros = [np.random.randint(1,11) for i in range(qntNumeros)]\n",
    "print(numeros)\n",
    "################################################################\n",
    "### print ######################################################\n",
    "maiorNumInserido = maior(numeros)\n",
    "print(f'O maior número inserido é {maiorNumInserido}')"
   ]
  }
 ],
 "metadata": {
  "kernelspec": {
   "display_name": "Python 3",
   "language": "python",
   "name": "python3"
  },
  "language_info": {
   "codemirror_mode": {
    "name": "ipython",
    "version": 3
   },
   "file_extension": ".py",
   "mimetype": "text/x-python",
   "name": "python",
   "nbconvert_exporter": "python",
   "pygments_lexer": "ipython3",
   "version": "3.12.9"
  }
 },
 "nbformat": 4,
 "nbformat_minor": 5
}
